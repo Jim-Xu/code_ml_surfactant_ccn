{
 "cells": [
  {
   "cell_type": "markdown",
   "metadata": {},
   "source": [
    "### This script splits the ARM dataset into training and testing subsets for fine-tuning. \n",
    "Specifically, it allocates 50% of the data to the training set and the remaining 50% to the test set.\n",
    "The script ensures that at least one row is included in the training set, even if the dataset is small.\n",
    "The resulting subsets are saved as separate CSV files for further use in fine-tuning machine learning models."
   ]
  },
  {
   "cell_type": "code",
   "execution_count": null,
   "metadata": {},
   "outputs": [],
   "source": [
    "import pandas as pd\n",
    "from sklearn.model_selection import train_test_split"
   ]
  },
  {
   "cell_type": "markdown",
   "metadata": {},
   "source": [
    "# spilt in order"
   ]
  },
  {
   "cell_type": "code",
   "execution_count": null,
   "metadata": {},
   "outputs": [
    {
     "name": "stdout",
     "output_type": "stream",
     "text": [
      "Finished splitting setpoint_0.1.csv → train (890 rows)  /  test (891 rows)\n",
      "Finished splitting setpoint_0.2.csv → train (890 rows)  /  test (891 rows)\n",
      "Finished splitting setpoint_0.4.csv → train (818 rows)  /  test (818 rows)\n",
      "Finished splitting setpoint_0.8.csv → train (885 rows)  /  test (886 rows)\n",
      "Finished splitting setpoint_1.0.csv → train (681 rows)  /  test (681 rows)\n"
     ]
    }
   ],
   "source": [
    "# 所有要拆分的 setpoint 列表\n",
    "set_points = [0.1, 0.2, 0.4, 0.8, 1.0]\n",
    "\n",
    "# 遍历每个 setpoint，按 50%:50% 拆分并保存\n",
    "for sp in set_points:\n",
    "    # 构造输入文件路径（根据你的实际路径自行修改）\n",
    "    in_path = f'/data/keeling/a/xx24/e/proj_ml/code_ml_surfactant_ccn/data/setpoint_{sp}.csv'\n",
    "    \n",
    "    # 读取原始观测数据\n",
    "    df = pd.read_csv(in_path)\n",
    "    \n",
    "    # Calculate 50% of the total dataset size\n",
    "    percent = int(len(df)*0.5)\n",
    "\n",
    "    # Ensure at least one row is included in the training set\n",
    "    percent = max(1, percent)\n",
    "\n",
    "    # Use slicing to create the training set (first `percent` rows)\n",
    "    train = df[:percent]\n",
    "    # Use slicing to create the test set (remaining rows)\n",
    "    test = df[percent:]\n",
    "\n",
    "    # 构造输出文件路径\n",
    "    train_path = f'/data/keeling/a/xx24/e/proj_ml/code_ml_surfactant_ccn/data/setpoint_{sp}_train.csv'\n",
    "    test_path  = f'/data/keeling/a/xx24/e/proj_ml/code_ml_surfactant_ccn/data/setpoint_{sp}_test.csv'\n",
    "    \n",
    "    # 保存到 CSV（不保留行索引）\n",
    "    train.to_csv(train_path, index=False)\n",
    "    test.to_csv(test_path, index=False)\n",
    "    \n",
    "    print(f'Finished splitting setpoint_{sp}.csv → train ({len(train)} rows)  /  test ({len(test)} rows)')\n"
   ]
  },
  {
   "cell_type": "markdown",
   "metadata": {},
   "source": [
    "# random spilt"
   ]
  },
  {
   "cell_type": "code",
   "execution_count": 2,
   "metadata": {},
   "outputs": [
    {
     "name": "stdout",
     "output_type": "stream",
     "text": [
      "Finished splitting setpoint_0.1.csv → train (890 rows)  /  test (891 rows)\n",
      "Finished splitting setpoint_0.2.csv → train (890 rows)  /  test (891 rows)\n",
      "Finished splitting setpoint_0.4.csv → train (818 rows)  /  test (818 rows)\n",
      "Finished splitting setpoint_0.8.csv → train (885 rows)  /  test (886 rows)\n",
      "Finished splitting setpoint_1.0.csv → train (681 rows)  /  test (681 rows)\n"
     ]
    }
   ],
   "source": [
    "# 所有要拆分的 setpoint 列表\n",
    "set_points = [0.1, 0.2, 0.4, 0.8, 1.0]\n",
    "\n",
    "# 遍历每个 setpoint，按 50%:50% 拆分并保存\n",
    "for sp in set_points:\n",
    "    # 构造输入文件路径（根据你的实际路径自行修改）\n",
    "    in_path = f'/data/keeling/a/xx24/e/proj_ml/code_ml_surfactant_ccn/data/setpoint_{sp}.csv'\n",
    "    \n",
    "    # 读取原始观测数据\n",
    "    df = pd.read_csv(in_path)\n",
    "    \n",
    "    # 50%:50% 随机拆分（random_state 保证可复现）\n",
    "    train, test = train_test_split(df, test_size=0.5, random_state=42)\n",
    "    \n",
    "    # 构造输出文件路径\n",
    "    train_path = f'/data/keeling/a/xx24/e/proj_ml/code_ml_surfactant_ccn/data/setpoint_{sp}_train.csv'\n",
    "    test_path  = f'/data/keeling/a/xx24/e/proj_ml/code_ml_surfactant_ccn/data/setpoint_{sp}_test.csv'\n",
    "    \n",
    "    # 保存到 CSV（不保留行索引）\n",
    "    train.to_csv(train_path, index=False)\n",
    "    test.to_csv(test_path, index=False)\n",
    "    \n",
    "    print(f'Finished splitting setpoint_{sp}.csv → train ({len(train)} rows)  /  test ({len(test)} rows)')"
   ]
  }
 ],
 "metadata": {
  "kernelspec": {
   "display_name": "Python 3 (ipykernel)",
   "language": "python",
   "name": "python3"
  }
 },
 "nbformat": 4,
 "nbformat_minor": 2
}
