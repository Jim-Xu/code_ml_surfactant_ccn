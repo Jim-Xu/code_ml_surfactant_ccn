{
 "cells": [
  {
   "cell_type": "code",
   "execution_count": null,
   "metadata": {},
   "outputs": [],
   "source": [
    "import os\n",
    "import re\n",
    "import numpy as np\n",
    "import xarray as xr\n",
    "from glob import glob"
   ]
  },
  {
   "cell_type": "markdown",
   "metadata": {},
   "source": [
    "# 1. 配置"
   ]
  },
  {
   "cell_type": "code",
   "execution_count": null,
   "metadata": {},
   "outputs": [],
   "source": [
    "fp = '/data/keeling/a/xx24/e/proj_ml/cesm_data'\n",
    "dataset = 'd651001'\n",
    "data_dir = os.path.join(fp, dataset)\n",
    "\n",
    "output_dir = os.path.join(data_dir, \"ensemble_with_bulk\")\n",
    "os.makedirs(output_dir, exist_ok=True)\n",
    "\n",
    "# 各 aerosol 组分的真实密度 (kg/m³)\n",
    "densities = {\n",
    "    'so4': 1800,\n",
    "    'ncl': 2200,\n",
    "    'pom': 1000,\n",
    "    'bc': 1800,\n",
    "    'dst': 2600,\n",
    "    'soa': 1400,\n",
    "}"
   ]
  },
  {
   "cell_type": "markdown",
   "metadata": {},
   "source": [
    "# 2. 扫描文件 & 按 (ens_letter, time, variable) 分组"
   ]
  },
  {
   "cell_type": "code",
   "execution_count": null,
   "metadata": {},
   "outputs": [],
   "source": [
    "pattern = re.compile(\n",
    "    r'b\\.e21\\.(?P<prefix>BHIST_CESM2_2010_01_ens)'\n",
    "    r'(?P<num>\\d+)(?P<letter>[a-z]?)\\.cam\\.h0'\n",
    "    r'\\.(?P<var>[^.]+)\\.(?P<time>[^.]+)\\.nc'\n",
    ")\n",
    "\n",
    "grouped = {}\n",
    "for path in glob(os.path.join(data_dir, \"b.e21.*.cam.h0.*.nc\")):\n",
    "    fname = os.path.basename(path)\n",
    "    m = pattern.match(fname)\n",
    "    if not m:\n",
    "        continue\n",
    "    letter = m.group('letter') or 'a'\n",
    "    time_part = m.group('time')\n",
    "    var = m.group('var')\n",
    "    key = (letter, time_part, var)\n",
    "    grouped.setdefault(key, []).append(path)"
   ]
  },
  {
   "cell_type": "markdown",
   "metadata": {},
   "source": [
    "# 3. 对每组进行 ensemble 平均"
   ]
  },
  {
   "cell_type": "code",
   "execution_count": null,
   "metadata": {},
   "outputs": [],
   "source": [
    "ensemble_avg = {}\n",
    "for (letter, time_part, var), paths in grouped.items():\n",
    "    arrs = []\n",
    "    coords0 = None\n",
    "    for p in paths:\n",
    "        ds = xr.open_dataset(p)\n",
    "        if var in ds:\n",
    "            arrs.append(ds[var])\n",
    "            if coords0 is None:\n",
    "                coords0 = ds.coords\n",
    "        ds.close()\n",
    "    if not arrs:\n",
    "        continue\n",
    "    combined = xr.concat(arrs, dim=\"ens_member\")\n",
    "    avg_da = combined.mean(dim=\"ens_member\")\n",
    "    ensemble_avg[(letter, time_part, var)] = (avg_da, coords0)"
   ]
  },
  {
   "cell_type": "markdown",
   "metadata": {},
   "source": [
    "# 4. 将 RHO_CLUBB 从 ilev 降到 lev"
   ]
  },
  {
   "cell_type": "code",
   "execution_count": null,
   "metadata": {},
   "outputs": [],
   "source": [
    "new_avg = {}\n",
    "for (letter, time_part, var), (da, coords) in ensemble_avg.items():\n",
    "    if var == 'RHO_CLUBB':\n",
    "        # 读取原始接口层坐标和数据\n",
    "        ilev = da.coords['ilev'].values    # length N\n",
    "        t    = da.coords['time'].values\n",
    "        lat  = da.coords['lat'].values\n",
    "        lon  = da.coords['lon'].values\n",
    "        data = da.data                      # shape (time, N, lat, lon)\n",
    "\n",
    "        # 计算中点层数据和坐标\n",
    "        data_mid = 0.5 * (data[:, :-1, :, :] + data[:, 1:, :, :])  # shape (time, N-1, lat, lon)\n",
    "        lev_mid  = 0.5 * (ilev[:-1] + ilev[1:])                     # length N-1\n",
    "\n",
    "        # 构造新的 DataArray\n",
    "        da_mid = xr.DataArray(\n",
    "            data_mid,\n",
    "            dims=('time', 'lev', 'lat', 'lon'),\n",
    "            coords={'time': t, 'lev': lev_mid, 'lat': lat, 'lon': lon},\n",
    "            name='RHO_CLUBB'\n",
    "        )\n",
    "        new_avg[(letter, time_part, var)] = (da_mid, da_mid.coords)\n",
    "    else:\n",
    "        new_avg[(letter, time_part, var)] = (da, coords)\n",
    "\n",
    "ensemble_avg = new_avg"
   ]
  },
  {
   "cell_type": "markdown",
   "metadata": {},
   "source": [
    "# 5. 计算 bulk diameter 及各 species mass_vol / number conc"
   ]
  },
  {
   "cell_type": "code",
   "execution_count": null,
   "metadata": {},
   "outputs": [],
   "source": [
    "species_list = ['so4','ncl','pom','bc','dst','soa','num']\n",
    "bulk_results = {}\n",
    "\n",
    "for letter, time_part in set((k[0], k[1]) for k in ensemble_avg):\n",
    "    # 汇总每种 species_mode 下的平均结果\n",
    "    summed = {}\n",
    "    coords0 = None\n",
    "    for sp in species_list:\n",
    "        # 找出所有以 sp_ 开头的变量\n",
    "        arrs = [ da for (l,t,var),(da,_) in ensemble_avg.items()\n",
    "                 if l==letter and t==time_part and var.startswith(sp+'_') ]\n",
    "        if arrs:\n",
    "            summed[sp] = sum(arrs)\n",
    "            coords0 = arrs[0].coords\n",
    "\n",
    "    # 取空气密度 DataArray\n",
    "    da_rho, _ = ensemble_avg.get((letter, time_part, 'RHO_CLUBB'), (None,None))\n",
    "    if da_rho is None:\n",
    "        continue\n",
    "\n",
    "    # 计算 mass_vol (kg/m³) for each aerosol species\n",
    "    mass_vol = {}\n",
    "    for sp, rho_sp in densities.items():\n",
    "        da_sp = summed.get(sp)\n",
    "        if da_sp is not None:\n",
    "            mass_vol[sp] = da_sp * da_rho\n",
    "\n",
    "    # 计算总数浓度 N_tot (#/m³)\n",
    "    da_num = summed.get('num')\n",
    "    if da_num is None:\n",
    "        continue\n",
    "    N_tot = da_num * da_rho\n",
    "\n",
    "    # 计算 bulk diameter (m)\n",
    "    M_tot = sum(mass_vol.values())                                # kg/m³\n",
    "    V_tot = sum(mass_vol[sp] / densities[sp] for sp in mass_vol)  # m³ aerosol per m³ air\n",
    "    rho_mix = M_tot / V_tot\n",
    "    d_bulk  = ((6 * M_tot) / (np.pi * rho_mix * N_tot)) ** (1/3)\n",
    "\n",
    "    bulk_results[(letter, time_part)] = {\n",
    "        'coords': coords0,\n",
    "        'mass_vol': mass_vol,\n",
    "        'N_tot':   N_tot,\n",
    "        'bulk':    d_bulk\n",
    "    }"
   ]
  },
  {
   "cell_type": "markdown",
   "metadata": {},
   "source": [
    "# 6. 合并所有变量到一个 Dataset 并保存"
   ]
  },
  {
   "cell_type": "code",
   "execution_count": null,
   "metadata": {},
   "outputs": [],
   "source": [
    "for (letter, time_part), res in bulk_results.items():\n",
    "    ds_out = xr.Dataset(coords=res['coords'])\n",
    "\n",
    "    # 写入各 aerosol species 的体积质量浓度 (kg/m³)\n",
    "    for sp, mv in res['mass_vol'].items():\n",
    "        ds_out[sp] = mv\n",
    "\n",
    "    # 写入总数浓度 (#/m³)\n",
    "    ds_out['tot_number_conc'] = res['N_tot']\n",
    "\n",
    "    # 写入 bulk diameter (m)\n",
    "    ds_out['bulk_diameter'] = res['bulk']\n",
    "\n",
    "    # 写入 T, RELHUM, RHO_CLUBB, CCN3 四个字段\n",
    "    for var in ['T', 'RELHUM', 'RHO_CLUBB', 'CCN3']:\n",
    "        entry = ensemble_avg.get((letter, time_part, var))\n",
    "        if entry:\n",
    "            ds_out[var] = entry[0]\n",
    "\n",
    "    # 保存到 netCDF\n",
    "    fname = f\"b.e21.ens_{letter}.cam.h0.all_vars.{time_part}.nc\"\n",
    "    outpath = os.path.join(output_dir, fname)\n",
    "    ds_out.to_netcdf(outpath)\n",
    "    print(\"Saved:\", outpath)"
   ]
  }
 ],
 "metadata": {
  "language_info": {
   "name": "python"
  }
 },
 "nbformat": 4,
 "nbformat_minor": 2
}
